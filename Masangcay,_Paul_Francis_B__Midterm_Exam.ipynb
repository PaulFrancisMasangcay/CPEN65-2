{
  "nbformat": 4,
  "nbformat_minor": 0,
  "metadata": {
    "colab": {
      "provenance": [],
      "authorship_tag": "ABX9TyNMAQQ5nIgX6mtrRhfk/8Fy",
      "include_colab_link": true
    },
    "kernelspec": {
      "name": "python3",
      "display_name": "Python 3"
    },
    "language_info": {
      "name": "python"
    }
  },
  "cells": [
    {
      "cell_type": "markdown",
      "metadata": {
        "id": "view-in-github",
        "colab_type": "text"
      },
      "source": [
        "<a href=\"https://colab.research.google.com/github/PaulFrancisMasangcay/CPEN65-2/blob/main/Masangcay%2C_Paul_Francis_B__Midterm_Exam.ipynb\" target=\"_parent\"><img src=\"https://colab.research.google.com/assets/colab-badge.svg\" alt=\"Open In Colab\"/></a>"
      ]
    },
    {
      "cell_type": "code",
      "execution_count": 38,
      "metadata": {
        "id": "4ttmWMSr9MhX",
        "colab": {
          "base_uri": "https://localhost:8080/"
        },
        "outputId": "bc379d50-184c-4d75-f9e5-b55c3ea51d2d"
      },
      "outputs": [
        {
          "output_type": "stream",
          "name": "stdout",
          "text": [
            "Enter a number: 0\n",
            "Enter a number: 9\n",
            "Enter a number: 8\n",
            "Enter a number: 7\n",
            "Enter a number: 6\n",
            "Enter a number: 5\n",
            "Enter a number: 4\n",
            "Enter a number: 3\n",
            "Enter a number: 2\n",
            "Enter a number: 1\n",
            "[0, 9, 8, 7, 6, 5, 4, 3, 2, 1]\n",
            "View index(0-9): 5\n",
            "Index 5 has 5\n",
            "The sum of all elements in the array is 45\n"
          ]
        }
      ],
      "source": [
        "#1.\tWrite a Python program to create an array of 10 integers and display the array items. Access individual elements through indexes and compute for the sum.\n",
        "\n",
        "arr = []\n",
        "\n",
        "y=0\n",
        "while y != 10:\n",
        "  x = int(input(\"Enter a number: \"))\n",
        "  arr.append(x)\n",
        "  y += 1\n",
        "print(arr)\n",
        "\n",
        "index = int(input(\"View index(0-9): \"))\n",
        "print(\"Index\",index,\"has\",arr[index])\n",
        "\n",
        "current = 0\n",
        "for x in arr:\n",
        "  sum = current + arr[x]\n",
        "  current = sum\n",
        "\n",
        "print(\"The sum of all elements in the array is\",sum)"
      ]
    },
    {
      "cell_type": "code",
      "source": [
        "#2.\tWrite a Python program to append a new item to the end of the array. Original array: numbers = [1, 2, 3, 4, 5, 6, 7, 8, 9, 10]\n",
        "\n",
        "x = int(input(\"Add a number:\"))\n",
        "numbers = [1, 2, 3, 4, 5, 6, 7, 8, 9, 10]\n",
        "numbers.append(x)\n",
        "print(numbers)"
      ],
      "metadata": {
        "colab": {
          "base_uri": "https://localhost:8080/"
        },
        "id": "aMBf55BxBKBN",
        "outputId": "550bc7fd-62d5-4732-a7be-956df7c4d0f1"
      },
      "execution_count": 39,
      "outputs": [
        {
          "output_type": "stream",
          "name": "stdout",
          "text": [
            "Add a number:987\n",
            "[1, 2, 3, 4, 5, 6, 7, 8, 9, 10, 987]\n"
          ]
        }
      ]
    },
    {
      "cell_type": "code",
      "source": [
        "#3.\tWrite a Python program to insert a new item before the second element in an existing array. Original array: numbers = [1, 2, 3, 4, 5, 6, 7, 8, 9, 10]\n",
        "\n",
        "x = int(input(\"Insert number:\"))\n",
        "numbers = [1, 2, 3, 4, 5, 6, 7, 8, 9, 10]\n",
        "numbers.insert(1,x)\n",
        "print(numbers)"
      ],
      "metadata": {
        "colab": {
          "base_uri": "https://localhost:8080/"
        },
        "id": "Q_wymzz4HFNE",
        "outputId": "28f69a4b-95fb-4539-8fe9-4043697603b1"
      },
      "execution_count": 40,
      "outputs": [
        {
          "output_type": "stream",
          "name": "stdout",
          "text": [
            "Insert number:23123\n",
            "[1, 23123, 2, 3, 4, 5, 6, 7, 8, 9, 10]\n"
          ]
        }
      ]
    },
    {
      "cell_type": "code",
      "source": [
        "#4.\tWrite a Python program to reverse the order of the items in the array. Original array: numbers = [5, 4, 3, 2, 1]\n",
        "\n",
        "numbers = [5, 4, 3, 2, 1]\n",
        "numbers.reverse()\n",
        "print(numbers)"
      ],
      "metadata": {
        "colab": {
          "base_uri": "https://localhost:8080/"
        },
        "id": "QqtGugzbIURi",
        "outputId": "21738b33-c0ac-409b-df27-0086c4fbf44d"
      },
      "execution_count": 41,
      "outputs": [
        {
          "output_type": "stream",
          "name": "stdout",
          "text": [
            "[1, 2, 3, 4, 5]\n"
          ]
        }
      ]
    },
    {
      "cell_type": "code",
      "source": [
        "#5.\tWrite a Python program to get the length of the array. Original array: numbers = [5, 4, 3, 2, 1]\n",
        "\n",
        "numbers = [5, 4, 3, 2, 1]\n",
        "l = len(numbers)\n",
        "print(l)"
      ],
      "metadata": {
        "colab": {
          "base_uri": "https://localhost:8080/"
        },
        "id": "OPM8sq8SIqxZ",
        "outputId": "30728e02-7169-433a-e628-235a0746346d"
      },
      "execution_count": 42,
      "outputs": [
        {
          "output_type": "stream",
          "name": "stdout",
          "text": [
            "5\n"
          ]
        }
      ]
    }
  ]
}