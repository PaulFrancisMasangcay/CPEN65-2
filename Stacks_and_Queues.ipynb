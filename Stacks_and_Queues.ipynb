{
  "nbformat": 4,
  "nbformat_minor": 0,
  "metadata": {
    "colab": {
      "provenance": [],
      "authorship_tag": "ABX9TyM6LGkSc2XV+CLOD1C8hP+l",
      "include_colab_link": true
    },
    "kernelspec": {
      "name": "python3",
      "display_name": "Python 3"
    },
    "language_info": {
      "name": "python"
    }
  },
  "cells": [
    {
      "cell_type": "markdown",
      "metadata": {
        "id": "view-in-github",
        "colab_type": "text"
      },
      "source": [
        "<a href=\"https://colab.research.google.com/github/PaulFrancisMasangcay/CPEN65-2/blob/main/Stacks_and_Queues.ipynb\" target=\"_parent\"><img src=\"https://colab.research.google.com/assets/colab-badge.svg\" alt=\"Open In Colab\"/></a>"
      ]
    },
    {
      "cell_type": "code",
      "execution_count": null,
      "metadata": {
        "colab": {
          "base_uri": "https://localhost:8080/"
        },
        "id": "ff7LHYAwDhbj",
        "outputId": "5de7cf9c-9b60-431e-d361-eb269da6cfbb"
      },
      "outputs": [
        {
          "output_type": "stream",
          "name": "stdout",
          "text": [
            "[1, 2, 3]\n",
            "[1, 2]\n",
            "[1]\n",
            "[]\n"
          ]
        }
      ],
      "source": [
        "class Stack:\n",
        "  def __init__(self):\n",
        "    self.stack = []\n",
        "\n",
        "  def push(self, dataval):\n",
        "    if dataval not in self.stack:\n",
        "      return self.stack.append(dataval)\n",
        "    else:\n",
        "      return False\n",
        "\n",
        "  def pop(self):\n",
        "    if len(self.stack) <= 0:\n",
        "      return \"Stack is empty\"\n",
        "    else:\n",
        "      return self.stack.pop()\n",
        "\n",
        "Astack = Stack()\n",
        "Astack.push(1)\n",
        "Astack.push(2)\n",
        "Astack.push(3)\n",
        "\n",
        "print(Astack.stack)\n",
        "\n",
        "Astack.pop()\n",
        "print(Astack.stack)\n",
        "Astack.pop()\n",
        "print(Astack.stack)\n",
        "Astack.pop()\n",
        "print(Astack.stack)\n",
        "\n",
        "\n"
      ]
    },
    {
      "cell_type": "code",
      "source": [
        "#Application 1\n",
        "#Implement the above program by Queues Data Structure (enqueue and dequeue/FIFO principle)\n",
        "\n",
        "class Queue:\n",
        "  def __init__(self):\n",
        "    self.queue = []\n",
        "\n",
        "  def enq(self, dataval):\n",
        "    if dataval not in self.queue:\n",
        "      return self.queue.append(dataval)\n",
        "    else:\n",
        "      return False\n",
        "\n",
        "  def deq(self):\n",
        "    if len(self.queue) < 1:\n",
        "      return \"There is no queue\"\n",
        "    else:\n",
        "      return self.queue.pop()\n",
        "\n",
        "q = Queue()\n",
        "\n",
        "q.enq(1)\n",
        "q.enq(3)\n",
        "q.enq(22)\n",
        "\n",
        "print(q.queue)\n",
        "\n",
        "q.deq()\n",
        "print(q.queue)\n",
        "q.deq()\n",
        "print(q.queue)\n",
        "q.deq()\n",
        "print(q.queue)\n"
      ],
      "metadata": {
        "id": "UzEApXpjE4CO",
        "colab": {
          "base_uri": "https://localhost:8080/"
        },
        "outputId": "44feaba6-f034-441d-fd6d-90712d0a506d"
      },
      "execution_count": 1,
      "outputs": [
        {
          "output_type": "stream",
          "name": "stdout",
          "text": [
            "[1, 3, 22]\n",
            "[1, 3]\n",
            "[1]\n",
            "[]\n"
          ]
        }
      ]
    }
  ]
}