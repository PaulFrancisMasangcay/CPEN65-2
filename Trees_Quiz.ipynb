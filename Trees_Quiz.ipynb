{
  "nbformat": 4,
  "nbformat_minor": 0,
  "metadata": {
    "colab": {
      "provenance": [],
      "authorship_tag": "ABX9TyO+jrpDqWWB81u2MIShr/9I",
      "include_colab_link": true
    },
    "kernelspec": {
      "name": "python3",
      "display_name": "Python 3"
    },
    "language_info": {
      "name": "python"
    }
  },
  "cells": [
    {
      "cell_type": "markdown",
      "metadata": {
        "id": "view-in-github",
        "colab_type": "text"
      },
      "source": [
        "<a href=\"https://colab.research.google.com/github/PaulFrancisMasangcay/CPEN65-2/blob/main/Trees_Quiz.ipynb\" target=\"_parent\"><img src=\"https://colab.research.google.com/assets/colab-badge.svg\" alt=\"Open In Colab\"/></a>"
      ]
    },
    {
      "cell_type": "code",
      "execution_count": null,
      "metadata": {
        "id": "T3bpTbpd7HoJ"
      },
      "outputs": [],
      "source": [
        "#6. Children of node 16?\n",
        "  Nodes 13, 6, 60\n",
        "\n",
        "#7. Parent of node 1?\n",
        "  Node 7\n",
        "\n",
        "#8. Siblings of node 23?\n",
        "  none\n",
        "\n",
        "#9. Ancestors of node 9?\n",
        "  Nodes 4, 12, 7, 22\n",
        "\n",
        "#10. Descendants of node 16?\n",
        "  Nodes 13, 6, 60, 23, 21\n",
        "\n",
        "#11. Leaves.\n",
        "  Nodes 23, 6, 21, 20, 9, 1\n",
        "\n",
        "#12. Non Leaves.\n",
        "  Nodes 13, 16, 60, 12, 7, 22\n",
        "\n",
        "#13. Depth of node 4?\n",
        "  3\n",
        "\n",
        "#14. Degree of the tree?\n",
        "  3\n",
        "\n",
        "#15. Height of the tree?\n",
        "  4\n",
        "\n",
        "#16. Weight of the tree?\n",
        "  6\n",
        "\n",
        "#17. Is the tree a binary tree?\n",
        "  No, node 16 has 3 children\n",
        "\n",
        "#18. Removing 6, is the tree a full binary tree?\n",
        "  No, the degree of nodes 13 and 60 is one \n",
        "\n",
        "#19. Removing 6, is the tree a complete binary tree?\n",
        "  No, because the tree still doesn't have the same depth and degree on its nodes\n",
        "\n",
        "#20. Is a full binary tree complete?\n",
        "  No, in a full binary tree, all the nodes have 2 degrees and its depth can vary while a complete binary tree should have same depth\n",
        "\n",
        "#21. Is a complete binary tree full?\n",
        "  Yes, a complete binary tree have same depth and degrees which satisfies a full binary that only need 2 degrees to its nodes\n",
        "\n",
        "#22. How many leaves does a complete n-ary tree of height h have?.\n",
        "  it has n^h leaves\n",
        "\n",
        "#23. What is the height of a complete n-ary tree with m leaves?.\n",
        "  It has log base of n (m) height\n",
        "\n",
        "#24. What is the number of internal nodes of a complete n-ary tree of height h?.\n",
        "  The internal nodes can be counted using (n^h-1)/(n-1)\n",
        "\n",
        "#25. What is the total number of nodes a complete n-ary tree of h have?\n",
        "  The total number of nodes is equal to (n^(h+1)-1)/(n-1)\n"
      ]
    }
  ]
}