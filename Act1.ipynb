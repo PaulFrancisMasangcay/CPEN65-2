{
  "nbformat": 4,
  "nbformat_minor": 0,
  "metadata": {
    "colab": {
      "provenance": [],
      "authorship_tag": "ABX9TyOXMbofpaH6WbgeUP8M8r3B",
      "include_colab_link": true
    },
    "kernelspec": {
      "name": "python3",
      "display_name": "Python 3"
    },
    "language_info": {
      "name": "python"
    }
  },
  "cells": [
    {
      "cell_type": "markdown",
      "metadata": {
        "id": "view-in-github",
        "colab_type": "text"
      },
      "source": [
        "<a href=\"https://colab.research.google.com/github/PaulFrancisMasangcay/CPEN65-2/blob/main/Act1.ipynb\" target=\"_parent\"><img src=\"https://colab.research.google.com/assets/colab-badge.svg\" alt=\"Open In Colab\"/></a>"
      ]
    },
    {
      "cell_type": "code",
      "execution_count": 68,
      "metadata": {
        "colab": {
          "base_uri": "https://localhost:8080/"
        },
        "id": "cncX99sTLHss",
        "outputId": "1b15933e-f0fa-4d31-eb09-ed8ef84edb95"
      },
      "outputs": [
        {
          "output_type": "stream",
          "name": "stdout",
          "text": [
            "Enter a value: 2\n",
            "Enter 1 if Radius. Enter 2 if Diameter: \n",
            "2\n",
            "The Area is  3.14 sq. units\n"
          ]
        }
      ],
      "source": [
        "class Circle:\n",
        "  def __init__(self,radius):\n",
        "    self.radius = radius\n",
        "\n",
        "  def Area(self):\n",
        "    Area = 3.14*(self.radius*self.radius)\n",
        "    print(\"The Area is \",Area, \"sq. units\")\n",
        "\n",
        "  def confirm(self):\n",
        "    opt = int(input(\"Enter 1 if Radius. Enter 2 if Diameter: \\n\"))\n",
        "    if opt == 2:\n",
        "      self.radius = self.radius/2\n",
        "      x.Area()\n",
        "    elif opt == 1:\n",
        "      self.radius = self.radius\n",
        "      x.Area()\n",
        "    else:\n",
        "      print(\"Error. Try Again.\")\n",
        "\n",
        "x = Circle(int(input(\"Enter a value: \")))\n",
        "x.confirm()\n"
      ]
    },
    {
      "cell_type": "code",
      "source": [],
      "metadata": {
        "id": "PuBozhCTQVuJ"
      },
      "execution_count": null,
      "outputs": []
    }
  ]
}