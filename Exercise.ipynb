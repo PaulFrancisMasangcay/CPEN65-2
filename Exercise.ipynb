{
  "nbformat": 4,
  "nbformat_minor": 0,
  "metadata": {
    "colab": {
      "provenance": [],
      "authorship_tag": "ABX9TyPe8DUsmt86IczRrU0JiWn8",
      "include_colab_link": true
    },
    "kernelspec": {
      "name": "python3",
      "display_name": "Python 3"
    },
    "language_info": {
      "name": "python"
    }
  },
  "cells": [
    {
      "cell_type": "markdown",
      "metadata": {
        "id": "view-in-github",
        "colab_type": "text"
      },
      "source": [
        "<a href=\"https://colab.research.google.com/github/PaulFrancisMasangcay/CPEN65-2/blob/main/Exercise.ipynb\" target=\"_parent\"><img src=\"https://colab.research.google.com/assets/colab-badge.svg\" alt=\"Open In Colab\"/></a>"
      ]
    },
    {
      "cell_type": "code",
      "execution_count": 47,
      "metadata": {
        "colab": {
          "base_uri": "https://localhost:8080/"
        },
        "id": "Wkas0bbnEBWL",
        "outputId": "93ce62ff-6917-4cea-cf71-13ca8d31c1ab"
      },
      "outputs": [
        {
          "output_type": "stream",
          "name": "stdout",
          "text": [
            "As array: ['P', 'A', 'U', 'L', ' ', 'F', 'R', 'A', 'N', 'C', 'I', 'S', ' ', 'B', 'A', 'W', 'A', 'G', ' ', 'M', 'A', 'S', 'A', 'N', 'G', 'C', 'A', 'Y']\n",
            "PAUL FRANCIS BAWAG MASANGCAY\n",
            "\n",
            "As array: ['Y', 'A', 'C', 'G', 'N', 'A', 'S', 'A', 'M', ' ', 'G', 'A', 'W', 'A', 'B', ' ', 'S', 'I', 'C', 'N', 'A', 'R', 'F', ' ', 'L', 'U', 'A', 'P']\n",
            "YACGNASAM GAWAB SICNARF LUAP\n"
          ]
        }
      ],
      "source": [
        "#Create a python program that use Array\n",
        "#Insert each character of your full name and display each character of your full name in reverse order\n",
        "\n",
        "name = ['P','A','U','L',' ','F','R','A','N','C','I','S',' ','B','A','W','A','G',' ','M','A','S','A','N','G','C','A','Y'] ##i added spaces in between first name, middle name and last name\n",
        "print(\"As array:\", name)\n",
        "print(*name,sep=\"\")       ## for removing the brackets, apostrophe and commas\n",
        "name.reverse()\n",
        "print(\"\\nAs array:\", name)\n",
        "print(*name,sep=\"\")\n",
        "\n"
      ]
    },
    {
      "cell_type": "code",
      "source": [
        "##for user input\n",
        "\n",
        "name = input(\"Enter your Full Name: \")\n",
        "array = list(name)\n",
        "print(\"As array:\",array)\n",
        "print(*array, sep=\"\")\n",
        "array.reverse()\n",
        "print(\"\\nAs array:\",array)\n",
        "print(*array, sep=\"\")"
      ],
      "metadata": {
        "colab": {
          "base_uri": "https://localhost:8080/"
        },
        "id": "NG6sak_YKy8-",
        "outputId": "e4553744-b54c-4e79-cdba-8c0b6f60cdf3"
      },
      "execution_count": 48,
      "outputs": [
        {
          "output_type": "stream",
          "name": "stdout",
          "text": [
            "Enter your Full Name: Paul Francis Masangcay\n",
            "As array: ['P', 'a', 'u', 'l', ' ', 'F', 'r', 'a', 'n', 'c', 'i', 's', ' ', 'M', 'a', 's', 'a', 'n', 'g', 'c', 'a', 'y']\n",
            "Paul Francis Masangcay\n",
            "\n",
            "As array: ['y', 'a', 'c', 'g', 'n', 'a', 's', 'a', 'M', ' ', 's', 'i', 'c', 'n', 'a', 'r', 'F', ' ', 'l', 'u', 'a', 'P']\n",
            "yacgnasaM sicnarF luaP\n"
          ]
        }
      ]
    }
  ]
}